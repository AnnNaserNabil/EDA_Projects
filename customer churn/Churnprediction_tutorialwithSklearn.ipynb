{
 "cells": [
  {
   "cell_type": "code",
   "execution_count": 1,
   "id": "d0ecfd1a-a7bf-4bb6-8dc1-a6f3928cfd7c",
   "metadata": {},
   "outputs": [
    {
     "data": {
      "text/html": [
       "<div>\n",
       "<style scoped>\n",
       "    .dataframe tbody tr th:only-of-type {\n",
       "        vertical-align: middle;\n",
       "    }\n",
       "\n",
       "    .dataframe tbody tr th {\n",
       "        vertical-align: top;\n",
       "    }\n",
       "\n",
       "    .dataframe thead th {\n",
       "        text-align: right;\n",
       "    }\n",
       "</style>\n",
       "<table border=\"1\" class=\"dataframe\">\n",
       "  <thead>\n",
       "    <tr style=\"text-align: right;\">\n",
       "      <th></th>\n",
       "      <th>customerID</th>\n",
       "      <th>gender</th>\n",
       "      <th>SeniorCitizen</th>\n",
       "      <th>Partner</th>\n",
       "      <th>Dependents</th>\n",
       "      <th>tenure</th>\n",
       "      <th>PhoneService</th>\n",
       "      <th>MultipleLines</th>\n",
       "      <th>InternetService</th>\n",
       "      <th>OnlineSecurity</th>\n",
       "      <th>...</th>\n",
       "      <th>DeviceProtection</th>\n",
       "      <th>TechSupport</th>\n",
       "      <th>StreamingTV</th>\n",
       "      <th>StreamingMovies</th>\n",
       "      <th>Contract</th>\n",
       "      <th>PaperlessBilling</th>\n",
       "      <th>PaymentMethod</th>\n",
       "      <th>MonthlyCharges</th>\n",
       "      <th>TotalCharges</th>\n",
       "      <th>Churn</th>\n",
       "    </tr>\n",
       "  </thead>\n",
       "  <tbody>\n",
       "    <tr>\n",
       "      <th>0</th>\n",
       "      <td>7590-VHVEG</td>\n",
       "      <td>Female</td>\n",
       "      <td>0</td>\n",
       "      <td>Yes</td>\n",
       "      <td>No</td>\n",
       "      <td>1</td>\n",
       "      <td>No</td>\n",
       "      <td>No phone service</td>\n",
       "      <td>DSL</td>\n",
       "      <td>No</td>\n",
       "      <td>...</td>\n",
       "      <td>No</td>\n",
       "      <td>No</td>\n",
       "      <td>No</td>\n",
       "      <td>No</td>\n",
       "      <td>Month-to-month</td>\n",
       "      <td>Yes</td>\n",
       "      <td>Electronic check</td>\n",
       "      <td>29.85</td>\n",
       "      <td>29.85</td>\n",
       "      <td>No</td>\n",
       "    </tr>\n",
       "    <tr>\n",
       "      <th>1</th>\n",
       "      <td>5575-GNVDE</td>\n",
       "      <td>Male</td>\n",
       "      <td>0</td>\n",
       "      <td>No</td>\n",
       "      <td>No</td>\n",
       "      <td>34</td>\n",
       "      <td>Yes</td>\n",
       "      <td>No</td>\n",
       "      <td>DSL</td>\n",
       "      <td>Yes</td>\n",
       "      <td>...</td>\n",
       "      <td>Yes</td>\n",
       "      <td>No</td>\n",
       "      <td>No</td>\n",
       "      <td>No</td>\n",
       "      <td>One year</td>\n",
       "      <td>No</td>\n",
       "      <td>Mailed check</td>\n",
       "      <td>56.95</td>\n",
       "      <td>1889.5</td>\n",
       "      <td>No</td>\n",
       "    </tr>\n",
       "    <tr>\n",
       "      <th>2</th>\n",
       "      <td>3668-QPYBK</td>\n",
       "      <td>Male</td>\n",
       "      <td>0</td>\n",
       "      <td>No</td>\n",
       "      <td>No</td>\n",
       "      <td>2</td>\n",
       "      <td>Yes</td>\n",
       "      <td>No</td>\n",
       "      <td>DSL</td>\n",
       "      <td>Yes</td>\n",
       "      <td>...</td>\n",
       "      <td>No</td>\n",
       "      <td>No</td>\n",
       "      <td>No</td>\n",
       "      <td>No</td>\n",
       "      <td>Month-to-month</td>\n",
       "      <td>Yes</td>\n",
       "      <td>Mailed check</td>\n",
       "      <td>53.85</td>\n",
       "      <td>108.15</td>\n",
       "      <td>Yes</td>\n",
       "    </tr>\n",
       "  </tbody>\n",
       "</table>\n",
       "<p>3 rows × 21 columns</p>\n",
       "</div>"
      ],
      "text/plain": [
       "   customerID  gender  SeniorCitizen Partner Dependents  tenure PhoneService  \\\n",
       "0  7590-VHVEG  Female              0     Yes         No       1           No   \n",
       "1  5575-GNVDE    Male              0      No         No      34          Yes   \n",
       "2  3668-QPYBK    Male              0      No         No       2          Yes   \n",
       "\n",
       "      MultipleLines InternetService OnlineSecurity  ... DeviceProtection  \\\n",
       "0  No phone service             DSL             No  ...               No   \n",
       "1                No             DSL            Yes  ...              Yes   \n",
       "2                No             DSL            Yes  ...               No   \n",
       "\n",
       "  TechSupport StreamingTV StreamingMovies        Contract PaperlessBilling  \\\n",
       "0          No          No              No  Month-to-month              Yes   \n",
       "1          No          No              No        One year               No   \n",
       "2          No          No              No  Month-to-month              Yes   \n",
       "\n",
       "      PaymentMethod MonthlyCharges  TotalCharges Churn  \n",
       "0  Electronic check          29.85         29.85    No  \n",
       "1      Mailed check          56.95        1889.5    No  \n",
       "2      Mailed check          53.85        108.15   Yes  \n",
       "\n",
       "[3 rows x 21 columns]"
      ]
     },
     "execution_count": 1,
     "metadata": {},
     "output_type": "execute_result"
    }
   ],
   "source": [
    "import gc\n",
    "import warnings\n",
    "import numpy as np\n",
    "import pandas as pd\n",
    "\n",
    "# Sklearn imports\n",
    "from sklearn.svm import SVC\n",
    "from sklearn.linear_model import LogisticRegression\n",
    "from sklearn.neighbors import KNeighborsClassifier\n",
    "from sklearn.model_selection import train_test_split, GridSearchCV\n",
    "from sklearn.metrics import accuracy_score, roc_auc_score\n",
    "from sklearn.preprocessing import StandardScaler, PolynomialFeatures\n",
    "# Visualization\n",
    "import matplotlib.pyplot as plt\n",
    "import seaborn as sns\n",
    "warnings.simplefilter(action='ignore', category=FutureWarning)\n",
    "df = pd.read_csv(\"telcochurndata.csv\")\n",
    "df.head(3)"
   ]
  },
  {
   "cell_type": "markdown",
   "id": "86d1b781-2d1f-4b7d-a284-51337299c094",
   "metadata": {},
   "source": [
    "1.1 Impute missing values\n",
    "There are eleven missing values in TotalCharges for some of the customers with zero tenure. We can impute these values with zero as these customers probably haven't paied any bills yet. We can also drop the customerID, since we already have the pandas numerical index."
   ]
  },
  {
   "cell_type": "code",
   "execution_count": 2,
   "id": "5961563b-00ca-47e8-9b2b-64bb1ff80b9a",
   "metadata": {},
   "outputs": [],
   "source": [
    "df['TotalCharges'] = df['TotalCharges'].replace(\" \", 0).astype('float32')\n",
    "df.drop(['customerID'],axis=1, inplace=True)"
   ]
  },
  {
   "cell_type": "markdown",
   "id": "f64539ae-d807-422e-bad4-358adb84360d",
   "metadata": {},
   "source": [
    "2. Preprocessing\n",
    "2.1 Categorical features\n",
    "The dataset has 16 categorical columns and six of them have binary values (yes or no). The approach used here is:\n",
    "\n",
    "In binary columns, just replace values with 1 and 0\n",
    "Create a new column for each value in the remaining columns (and assign 1 or 0)\n",
    "This is equivalent to one-hot-encode, but we avoid some extra columns for yes and no features."
   ]
  },
  {
   "cell_type": "code",
   "execution_count": 3,
   "id": "ffdecf97-05a9-4120-8a58-7e29527b17d1",
   "metadata": {},
   "outputs": [
    {
     "data": {
      "text/html": [
       "<div>\n",
       "<style scoped>\n",
       "    .dataframe tbody tr th:only-of-type {\n",
       "        vertical-align: middle;\n",
       "    }\n",
       "\n",
       "    .dataframe tbody tr th {\n",
       "        vertical-align: top;\n",
       "    }\n",
       "\n",
       "    .dataframe thead th {\n",
       "        text-align: right;\n",
       "    }\n",
       "</style>\n",
       "<table border=\"1\" class=\"dataframe\">\n",
       "  <thead>\n",
       "    <tr style=\"text-align: right;\">\n",
       "      <th></th>\n",
       "      <th>gender</th>\n",
       "      <th>SeniorCitizen</th>\n",
       "      <th>Partner</th>\n",
       "      <th>Dependents</th>\n",
       "      <th>PhoneService</th>\n",
       "      <th>PaperlessBilling</th>\n",
       "      <th>Churn</th>\n",
       "      <th>MultipleLines_No</th>\n",
       "      <th>MultipleLines_No phone service</th>\n",
       "      <th>MultipleLines_Yes</th>\n",
       "      <th>...</th>\n",
       "      <th>StreamingMovies_No</th>\n",
       "      <th>StreamingMovies_No internet service</th>\n",
       "      <th>StreamingMovies_Yes</th>\n",
       "      <th>Contract_Month-to-month</th>\n",
       "      <th>Contract_One year</th>\n",
       "      <th>Contract_Two year</th>\n",
       "      <th>PaymentMethod_Bank transfer (automatic)</th>\n",
       "      <th>PaymentMethod_Credit card (automatic)</th>\n",
       "      <th>PaymentMethod_Electronic check</th>\n",
       "      <th>PaymentMethod_Mailed check</th>\n",
       "    </tr>\n",
       "  </thead>\n",
       "  <tbody>\n",
       "    <tr>\n",
       "      <th>0</th>\n",
       "      <td>0</td>\n",
       "      <td>0</td>\n",
       "      <td>0</td>\n",
       "      <td>0</td>\n",
       "      <td>0</td>\n",
       "      <td>0</td>\n",
       "      <td>0</td>\n",
       "      <td>False</td>\n",
       "      <td>True</td>\n",
       "      <td>False</td>\n",
       "      <td>...</td>\n",
       "      <td>True</td>\n",
       "      <td>False</td>\n",
       "      <td>False</td>\n",
       "      <td>True</td>\n",
       "      <td>False</td>\n",
       "      <td>False</td>\n",
       "      <td>False</td>\n",
       "      <td>False</td>\n",
       "      <td>True</td>\n",
       "      <td>False</td>\n",
       "    </tr>\n",
       "    <tr>\n",
       "      <th>1</th>\n",
       "      <td>1</td>\n",
       "      <td>0</td>\n",
       "      <td>1</td>\n",
       "      <td>0</td>\n",
       "      <td>1</td>\n",
       "      <td>1</td>\n",
       "      <td>0</td>\n",
       "      <td>True</td>\n",
       "      <td>False</td>\n",
       "      <td>False</td>\n",
       "      <td>...</td>\n",
       "      <td>True</td>\n",
       "      <td>False</td>\n",
       "      <td>False</td>\n",
       "      <td>False</td>\n",
       "      <td>True</td>\n",
       "      <td>False</td>\n",
       "      <td>False</td>\n",
       "      <td>False</td>\n",
       "      <td>False</td>\n",
       "      <td>True</td>\n",
       "    </tr>\n",
       "    <tr>\n",
       "      <th>2</th>\n",
       "      <td>1</td>\n",
       "      <td>0</td>\n",
       "      <td>1</td>\n",
       "      <td>0</td>\n",
       "      <td>1</td>\n",
       "      <td>0</td>\n",
       "      <td>1</td>\n",
       "      <td>True</td>\n",
       "      <td>False</td>\n",
       "      <td>False</td>\n",
       "      <td>...</td>\n",
       "      <td>True</td>\n",
       "      <td>False</td>\n",
       "      <td>False</td>\n",
       "      <td>True</td>\n",
       "      <td>False</td>\n",
       "      <td>False</td>\n",
       "      <td>False</td>\n",
       "      <td>False</td>\n",
       "      <td>False</td>\n",
       "      <td>True</td>\n",
       "    </tr>\n",
       "  </tbody>\n",
       "</table>\n",
       "<p>3 rows × 38 columns</p>\n",
       "</div>"
      ],
      "text/plain": [
       "   gender  SeniorCitizen  Partner  Dependents  PhoneService  PaperlessBilling  \\\n",
       "0       0              0        0           0             0                 0   \n",
       "1       1              0        1           0             1                 1   \n",
       "2       1              0        1           0             1                 0   \n",
       "\n",
       "   Churn  MultipleLines_No  MultipleLines_No phone service  MultipleLines_Yes  \\\n",
       "0      0             False                            True              False   \n",
       "1      0              True                           False              False   \n",
       "2      1              True                           False              False   \n",
       "\n",
       "   ...  StreamingMovies_No  StreamingMovies_No internet service  \\\n",
       "0  ...                True                                False   \n",
       "1  ...                True                                False   \n",
       "2  ...                True                                False   \n",
       "\n",
       "   StreamingMovies_Yes  Contract_Month-to-month  Contract_One year  \\\n",
       "0                False                     True              False   \n",
       "1                False                    False               True   \n",
       "2                False                     True              False   \n",
       "\n",
       "   Contract_Two year  PaymentMethod_Bank transfer (automatic)  \\\n",
       "0              False                                    False   \n",
       "1              False                                    False   \n",
       "2              False                                    False   \n",
       "\n",
       "   PaymentMethod_Credit card (automatic)  PaymentMethod_Electronic check  \\\n",
       "0                                  False                            True   \n",
       "1                                  False                           False   \n",
       "2                                  False                           False   \n",
       "\n",
       "   PaymentMethod_Mailed check  \n",
       "0                       False  \n",
       "1                        True  \n",
       "2                        True  \n",
       "\n",
       "[3 rows x 38 columns]"
      ]
     },
     "execution_count": 3,
     "metadata": {},
     "output_type": "execute_result"
    }
   ],
   "source": [
    "categorical_cols = [c for c in df.columns if df[c].dtype == 'object'\n",
    "                    or c == 'SeniorCitizen']\n",
    "df_categorical = df[categorical_cols].copy()\n",
    "for col in categorical_cols:\n",
    "    if df_categorical[col].nunique() == 2:\n",
    "        df_categorical[col], _ = pd.factorize(df_categorical[col])\n",
    "    else:\n",
    "        df_categorical = pd.get_dummies(df_categorical, columns=[col])\n",
    "\n",
    "df_categorical.head(3)"
   ]
  },
  {
   "cell_type": "markdown",
   "id": "9a0bd54d-6dd5-4492-8e87-8505831c3cb6",
   "metadata": {},
   "source": [
    "2.2 Feature scalling\n",
    "There are three numerical columns with the following distributions:"
   ]
  },
  {
   "cell_type": "code",
   "execution_count": 4,
   "id": "a4a76dd5-c712-42d9-9e80-437491e89ee3",
   "metadata": {},
   "outputs": [
    {
     "data": {
      "text/html": [
       "<div>\n",
       "<style scoped>\n",
       "    .dataframe tbody tr th:only-of-type {\n",
       "        vertical-align: middle;\n",
       "    }\n",
       "\n",
       "    .dataframe tbody tr th {\n",
       "        vertical-align: top;\n",
       "    }\n",
       "\n",
       "    .dataframe thead th {\n",
       "        text-align: right;\n",
       "    }\n",
       "</style>\n",
       "<table border=\"1\" class=\"dataframe\">\n",
       "  <thead>\n",
       "    <tr style=\"text-align: right;\">\n",
       "      <th></th>\n",
       "      <th>tenure</th>\n",
       "      <th>MonthlyCharges</th>\n",
       "      <th>TotalCharges</th>\n",
       "    </tr>\n",
       "  </thead>\n",
       "  <tbody>\n",
       "    <tr>\n",
       "      <th>count</th>\n",
       "      <td>7043.000000</td>\n",
       "      <td>7043.000000</td>\n",
       "      <td>7043.000000</td>\n",
       "    </tr>\n",
       "    <tr>\n",
       "      <th>mean</th>\n",
       "      <td>32.371149</td>\n",
       "      <td>64.761692</td>\n",
       "      <td>2279.734375</td>\n",
       "    </tr>\n",
       "    <tr>\n",
       "      <th>std</th>\n",
       "      <td>24.559481</td>\n",
       "      <td>30.090047</td>\n",
       "      <td>2266.794434</td>\n",
       "    </tr>\n",
       "    <tr>\n",
       "      <th>min</th>\n",
       "      <td>0.000000</td>\n",
       "      <td>18.250000</td>\n",
       "      <td>0.000000</td>\n",
       "    </tr>\n",
       "    <tr>\n",
       "      <th>25%</th>\n",
       "      <td>9.000000</td>\n",
       "      <td>35.500000</td>\n",
       "      <td>398.549988</td>\n",
       "    </tr>\n",
       "    <tr>\n",
       "      <th>50%</th>\n",
       "      <td>29.000000</td>\n",
       "      <td>70.350000</td>\n",
       "      <td>1394.550049</td>\n",
       "    </tr>\n",
       "    <tr>\n",
       "      <th>75%</th>\n",
       "      <td>55.000000</td>\n",
       "      <td>89.850000</td>\n",
       "      <td>3786.599976</td>\n",
       "    </tr>\n",
       "    <tr>\n",
       "      <th>max</th>\n",
       "      <td>72.000000</td>\n",
       "      <td>118.750000</td>\n",
       "      <td>8684.799805</td>\n",
       "    </tr>\n",
       "  </tbody>\n",
       "</table>\n",
       "</div>"
      ],
      "text/plain": [
       "            tenure  MonthlyCharges  TotalCharges\n",
       "count  7043.000000     7043.000000   7043.000000\n",
       "mean     32.371149       64.761692   2279.734375\n",
       "std      24.559481       30.090047   2266.794434\n",
       "min       0.000000       18.250000      0.000000\n",
       "25%       9.000000       35.500000    398.549988\n",
       "50%      29.000000       70.350000   1394.550049\n",
       "75%      55.000000       89.850000   3786.599976\n",
       "max      72.000000      118.750000   8684.799805"
      ]
     },
     "execution_count": 4,
     "metadata": {},
     "output_type": "execute_result"
    }
   ],
   "source": [
    "def distplot(feature, frame, color='g'):\n",
    "    plt.figure(figsize=(8,3))\n",
    "    plt.title(\"Distribution for {}\".format(feature))\n",
    "    ax = sns.distplot(frame[feature], color= color)\n",
    "\n",
    "numerical_cols = ['tenure', 'MonthlyCharges', 'TotalCharges']\n",
    "df[numerical_cols].describe()"
   ]
  },
  {
   "cell_type": "code",
   "execution_count": 5,
   "id": "c7912c00-5898-4c2d-b4c8-9ce31bdba2e5",
   "metadata": {},
   "outputs": [
    {
     "name": "stderr",
     "output_type": "stream",
     "text": [
      "/tmp/ipykernel_70758/1414074950.py:4: UserWarning: \n",
      "\n",
      "`distplot` is a deprecated function and will be removed in seaborn v0.14.0.\n",
      "\n",
      "Please adapt your code to use either `displot` (a figure-level function with\n",
      "similar flexibility) or `histplot` (an axes-level function for histograms).\n",
      "\n",
      "For a guide to updating your code to use the new functions, please see\n",
      "https://gist.github.com/mwaskom/de44147ed2974457ad6372750bbe5751\n",
      "\n",
      "  ax = sns.distplot(frame[feature], color= color)\n",
      "/tmp/ipykernel_70758/1414074950.py:4: UserWarning: \n",
      "\n",
      "`distplot` is a deprecated function and will be removed in seaborn v0.14.0.\n",
      "\n",
      "Please adapt your code to use either `displot` (a figure-level function with\n",
      "similar flexibility) or `histplot` (an axes-level function for histograms).\n",
      "\n",
      "For a guide to updating your code to use the new functions, please see\n",
      "https://gist.github.com/mwaskom/de44147ed2974457ad6372750bbe5751\n",
      "\n",
      "  ax = sns.distplot(frame[feature], color= color)\n",
      "/tmp/ipykernel_70758/1414074950.py:4: UserWarning: \n",
      "\n",
      "`distplot` is a deprecated function and will be removed in seaborn v0.14.0.\n",
      "\n",
      "Please adapt your code to use either `displot` (a figure-level function with\n",
      "similar flexibility) or `histplot` (an axes-level function for histograms).\n",
      "\n",
      "For a guide to updating your code to use the new functions, please see\n",
      "https://gist.github.com/mwaskom/de44147ed2974457ad6372750bbe5751\n",
      "\n",
      "  ax = sns.distplot(frame[feature], color= color)\n"
     ]
    },
    {
     "data": {
      "image/png": "[encoded data removed]",
      "text/plain": [
       "<Figure size 800x300 with 1 Axes>"
      ]
     },
     "metadata": {},
     "output_type": "display_data"
    },
    {
     "data": {
      "image/png": "[encoded data removed]",
      "text/plain": [
       "<Figure size 800x300 with 1 Axes>"
      ]
     },
     "metadata": {},
     "output_type": "display_data"
    },
    {
     "data": {
      "image/png": "[encoded data removed]",
      "text/plain": [
       "<Figure size 800x300 with 1 Axes>"
      ]
     },
     "metadata": {},
     "output_type": "display_data"
    }
   ],
   "source": [
    "for feat in numerical_cols: distplot(feat, df)"
   ]
  },
  {
   "cell_type": "markdown",
   "id": "606861da-0588-4a3b-856b-0e96e8bcfc29",
   "metadata": {},
   "source": [
    "Standardization\n",
    "\n",
    "I've tryed a few experiments using the raw numerical features, normalization and standardization and found that the former yelds slightly better results. Altough we are not using gradient based optimization, the features have very distinct ranges and that can be detrimental to the model. I also think that the values are distributed over a long interval as we can see in the plots above, so restricting them to [0, 1] range with normalization is not the best approach."
   ]
  },
  {
   "cell_type": "code",
   "execution_count": 6,
   "id": "880c4573-74f8-483c-ada6-8a7d9ef449e2",
   "metadata": {},
   "outputs": [
    {
     "name": "stderr",
     "output_type": "stream",
     "text": [
      "/tmp/ipykernel_70758/1414074950.py:4: UserWarning: \n",
      "\n",
      "`distplot` is a deprecated function and will be removed in seaborn v0.14.0.\n",
      "\n",
      "Please adapt your code to use either `displot` (a figure-level function with\n",
      "similar flexibility) or `histplot` (an axes-level function for histograms).\n",
      "\n",
      "For a guide to updating your code to use the new functions, please see\n",
      "https://gist.github.com/mwaskom/de44147ed2974457ad6372750bbe5751\n",
      "\n",
      "  ax = sns.distplot(frame[feature], color= color)\n",
      "/tmp/ipykernel_70758/1414074950.py:4: UserWarning: \n",
      "\n",
      "`distplot` is a deprecated function and will be removed in seaborn v0.14.0.\n",
      "\n",
      "Please adapt your code to use either `displot` (a figure-level function with\n",
      "similar flexibility) or `histplot` (an axes-level function for histograms).\n",
      "\n",
      "For a guide to updating your code to use the new functions, please see\n",
      "https://gist.github.com/mwaskom/de44147ed2974457ad6372750bbe5751\n",
      "\n",
      "  ax = sns.distplot(frame[feature], color= color)\n",
      "/tmp/ipykernel_70758/1414074950.py:4: UserWarning: \n",
      "\n",
      "`distplot` is a deprecated function and will be removed in seaborn v0.14.0.\n",
      "\n",
      "Please adapt your code to use either `displot` (a figure-level function with\n",
      "similar flexibility) or `histplot` (an axes-level function for histograms).\n",
      "\n",
      "For a guide to updating your code to use the new functions, please see\n",
      "https://gist.github.com/mwaskom/de44147ed2974457ad6372750bbe5751\n",
      "\n",
      "  ax = sns.distplot(frame[feature], color= color)\n"
     ]
    },
    {
     "data": {
      "image/png": "[encoded data removed]",
      "text/plain": [
       "<Figure size 800x300 with 1 Axes>"
      ]
     },
     "metadata": {},
     "output_type": "display_data"
    },
    {
     "data": {
      "image/png": "[encoded data removed]",
      "text/plain": [
       "<Figure size 800x300 with 1 Axes>"
      ]
     },
     "metadata": {},
     "output_type": "display_data"
    },
    {
     "data": {
      "image/png": "[encoded data removed]",
      "text/plain": [
       "<Figure size 800x300 with 1 Axes>"
      ]
     },
     "metadata": {},
     "output_type": "display_data"
    }
   ],
   "source": [
    "df_std = pd.DataFrame(StandardScaler().fit_transform(df[numerical_cols].astype('float64')),\n",
    "                       columns=numerical_cols)\n",
    "for feat in numerical_cols: distplot(feat, df_std, color='gray')"
   ]
  },
  {
   "cell_type": "markdown",
   "id": "0a8bc2a9-cfa2-49aa-a0bd-f130c2949f9c",
   "metadata": {},
   "source": [
    "3. Cross-Validation\n",
    "In order to test the efficiency of our classifier we need to split the data in a train and test set, so we can evaluate our model in data that it has never seen before. However, when evaluating different features, transformations and hyperparameters for estimators there is a risk of overffiting on the test set. To solve this problem, yet another part of the dataset can be held out as a validation set, but we drastically reduce the number of samples which can be used for learning.\n",
    "\n",
    "As we only have seven thousands samples, our solution needs a procedure called cross-validation for training and validation. After that, we can evaluate our final model on the test set. For more information about cross-validation check the Sklearn reference.\n",
    "\n",
    "Let's create a class that will use GridSearchCV and KFold to find the best hyperparameters and return the cross-validation score. The second method will also train the classifier with the best hyperparameters found and predict the test set."
   ]
  },
  {
   "cell_type": "code",
   "execution_count": 7,
   "id": "9582b144-6794-4ddd-a75a-555ad1a436ec",
   "metadata": {},
   "outputs": [],
   "source": [
    "class Model():\n",
    "    def __init__(self, classifier, frame, metrics, fixed_params = {},\n",
    "                 test_size=0.2, random_seed=50):\n",
    "        self.estimator = classifier\n",
    "        self.seed = random_seed\n",
    "        self.metrics = metrics\n",
    "        self.hyperparameters = {}\n",
    "        self.fixed_params = fixed_params\n",
    "        self.fixed_params['random_state'] = random_seed\n",
    "        if classifier == KNeighborsClassifier:\n",
    "            del self.fixed_params['random_state']\n",
    "\n",
    "        # First divide data in learning set and final test set\n",
    "        self.train, self.test = train_test_split(frame, test_size=test_size, random_state= self.seed)\n",
    "        self.predictors = [c for c in self.train.columns if c not in ['customerID', 'Churn']]\n",
    "\n",
    "    def grid_search(self, fit_metric, params, num_folds=10):\n",
    "        \"\"\" Save the best params to self.hyperparameters. \"\"\"\n",
    "        print(self.fixed_params)\n",
    "        gs = GridSearchCV(self.estimator(**self.fixed_params), param_grid= params,\n",
    "                          scoring=self.metrics, cv=num_folds, refit= fit_metric)\n",
    "        gs.fit(self.train[self.predictors], self.train['Churn'])\n",
    "        self.hyperparameters = gs.best_params_\n",
    "        return [(m, gs.cv_results_['mean_test_{}'.format(m)][gs.best_index_]) for m in self.metrics]\n",
    "    \n",
    "    def train_and_evaluate_test(self):\n",
    "        \"\"\" Train classifier on the full train set and evaluate the performance on the test set. \"\"\"\n",
    "        params = {**self.hyperparameters, **self.fixed_params}\n",
    "        clf = self.estimator(**params).fit(self.train[self.predictors], self.train['Churn'])\n",
    "        y_pred = clf.predict(self.test[self.predictors])\n",
    "        y_prob = clf.predict_proba(self.test[self.predictors])[:, 1]\n",
    "        results = list()\n",
    "        for m in self.metrics:\n",
    "            if m == 'roc_auc':\n",
    "                # For calculating roc auc we need the probability of target==1\n",
    "                results.append((m, roc_auc_score(self.test['Churn'], y_prob)))\n",
    "            else:\n",
    "                # For the other metrics we can simply use the predicted label (0 or 1)\n",
    "                results.append((m, eval(\"{}_score\".format(m))(self.test['Churn'], y_pred)))\n",
    "        return results\n",
    "\n",
    "def print_result(results, sufix = \"\"):\n",
    "    \"\"\" Function for printing the results nicely. \"\"\"\n",
    "    msg = \"\"\n",
    "    for result in results:\n",
    "        msg += \"| {}: {:.4f} \".format(result[0], result[1])\n",
    "    print(\"{}- {}\".format(msg, sufix))"
   ]
  },
  {
   "cell_type": "markdown",
   "id": "5ba86c36-d4be-4729-8107-7fb372ea8a08",
   "metadata": {},
   "source": [
    "Metrics\n",
    "\n",
    "As stated in the introduction, two metrics will be used to evaluate our models:\n",
    "\n",
    "Accuracy\n",
    "Area under the Receiver operating characteristic curve\n",
    "Accuracy is just how many predictions we got right divided by the total number of examples. It might not be the best metric here since we have an imbalanced dataset: if you predict every example as zero you get 73% accuracy. The ROC AUC is the area under the curve when plotting the (normalized) true positive rate (x-axis) and the false positive rate (y-axis). For a complete description: Google Crash Course\n",
    "\n",
    "Our main metric for optimization will be the ROC AUC score, though we will also check how accuracy is doing.\n",
    "\n"
   ]
  },
  {
   "cell_type": "markdown",
   "id": "e217c093-a882-4abf-9c14-07dc0f110227",
   "metadata": {},
   "source": [
    "4. Testing models\n",
    "Now we can use our simple class to test both models:"
   ]
  },
  {
   "cell_type": "code",
   "execution_count": 8,
   "id": "bc709609-a119-4806-a11b-e50edda2d761",
   "metadata": {},
   "outputs": [],
   "source": [
    "df_processed = pd.concat([df_std, df_categorical], axis=1)\n",
    "metrics = ['roc_auc', 'accuracy']"
   ]
  },
  {
   "cell_type": "markdown",
   "id": "5489fd54-957f-44a4-a2b3-363b6d263869",
   "metadata": {},
   "source": [
    "4.1 Logistic regression\n",
    "We have just one hyperparameter here for regularization, which is implemented as the inverse of lambda. The grid_search will evaluate all combinations of hyperparameters and find the best set to use. We can start with a broad range of values and them try a more restricted grid."
   ]
  },
  {
   "cell_type": "code",
   "execution_count": 9,
   "id": "fb03b04f-f9ad-4db9-8055-434c36032553",
   "metadata": {},
   "outputs": [
    {
     "name": "stdout",
     "output_type": "stream",
     "text": [
      "{'random_state': 50}\n",
      "| roc_auc: 0.8464 | accuracy: 0.8042 - cross-validation\n",
      "| roc_auc: 0.8399 | accuracy: 0.7999 - test set\n",
      "Best hyperparameters: {'C': 3.351602650938848}\n"
     ]
    }
   ],
   "source": [
    "def logistic_regression(frame, grid):\n",
    "    logit = Model(LogisticRegression, frame, metrics)\n",
    "    print_result(logit.grid_search('roc_auc', grid), \"cross-validation\")\n",
    "    print_result(logit.train_and_evaluate_test(), \"test set\")\n",
    "    print(\"Best hyperparameters:\", logit.hyperparameters)\n",
    "logistic_regression(df_processed, {'C': np.logspace(-4, 4, 100, base=10)})"
   ]
  },
  {
   "cell_type": "code",
   "execution_count": 10,
   "id": "a11c721d-438a-4ea7-a5dd-08a0a572f342",
   "metadata": {},
   "outputs": [
    {
     "name": "stdout",
     "output_type": "stream",
     "text": [
      "{'random_state': 50}\n",
      "| roc_auc: 0.8464 | accuracy: 0.8042 - cross-validation\n",
      "| roc_auc: 0.8399 | accuracy: 0.7999 - test set\n",
      "Best hyperparameters: {'C': 2.98}\n"
     ]
    }
   ],
   "source": [
    "logit_grid = {'C': np.linspace(0.02, 3, 150)}\n",
    "logistic_regression(df_processed, logit_grid)"
   ]
  },
  {
   "cell_type": "markdown",
   "id": "60e6e3cb-3738-4e9e-96d6-ebeffac4a2da",
   "metadata": {},
   "source": [
    "4.2 Support vector machine\n",
    "Support vector machines are similar to logistic regression, but they use the concept of a largin margin separation and are more robust to outliers. For more details check the first reference.\n",
    "\n",
    "The following kernels will be used with the support vector classifier: rbf, linear and polynomial (see the second refeerence).\n",
    "\n",
    "SVC Guide - CS Departament NTU\n",
    "Sklearn Kernels\n",
    "RBF Kernel\n",
    "\n",
    "Let's start with rbf (default kernel) and tunne the hyperparameters C and gamma."
   ]
  },
  {
   "cell_type": "raw",
   "id": "293ec2ce-5fe2-4812-ba0b-72c77143706a",
   "metadata": {},
   "source": [
    "# Grid-search following second reference suggestions\n",
    "def svc_rbf(frame, grid):\n",
    "    rbf = Model(SVC, frame, metrics, fixed_params= {'kernel': 'rbf', 'probability': True})\n",
    "    print_result(rbf.grid_search('roc_auc', grid, num_folds=4), \"cross-validation\")\n",
    "    print_result(rbf.train_and_evaluate_test(), \"test set\")\n",
    "    print(\"Best hyperparameters:\", rbf.hyperparameters)\n",
    "\n",
    "grid_rbf =  {'C': np.logspace(-4, 1, 10, base=2), 'gamma': np.logspace(-6, 2, 10, base=2)}\n",
    "svc_rbf(df_processed, grid_rbf)"
   ]
  },
  {
   "cell_type": "markdown",
   "id": "6e2bdd1f-f335-4a41-82f2-2de10223c2c0",
   "metadata": {},
   "source": [
    "Linear kernel\n",
    "\n",
    "For the linear kernel we only need to tunne the regularization parameter."
   ]
  },
  {
   "cell_type": "code",
   "execution_count": null,
   "id": "0c28f351-1ff4-4416-8ad1-6a53674b1747",
   "metadata": {},
   "outputs": [
    {
     "name": "stdout",
     "output_type": "stream",
     "text": [
      "{'kernel': 'linear', 'probability': True, 'random_state': 50}\n"
     ]
    }
   ],
   "source": [
    "def svc_linear(frame, grid):\n",
    "    linear = Model(SVC, frame, metrics, fixed_params={'kernel': 'linear', 'probability': True})\n",
    "    print_result(linear.grid_search('roc_auc', grid), \"cross-validation\")\n",
    "    print_result(linear.train_and_evaluate_test(), \"test set\")\n",
    "    print(\"Best hyperparameters:\", linear.hyperparameters)\n",
    "svc_linear(df_processed, {'C': np.logspace(-4, 1, 100, base=10)})"
   ]
  },
  {
   "cell_type": "markdown",
   "id": "c71fa489-5c05-4974-87c6-159a73df8ea5",
   "metadata": {},
   "source": [
    "Polynomial Kernel"
   ]
  },
  {
   "cell_type": "code",
   "execution_count": null,
   "id": "5fa94732-6c72-418d-8120-5aeb44179123",
   "metadata": {},
   "outputs": [],
   "source": [
    "def svc_poly(frame, grid):\n",
    "    poly_svc = Model(SVC, frame, metrics, fixed_params={'kernel': 'poly', 'probability': True})\n",
    "    print_result(poly_svc.grid_search('roc_auc', grid), \"cross-validation\")\n",
    "    print_result(poly_svc.train_and_evaluate_test(), \"test set\")\n",
    "    print(\"Best hyperparameters:\", poly_svc.hyperparameters)\n",
    "svc_poly(df_processed, {'C': np.logspace(-5, 1, 30, base=2), 'degree': [2, 3]})\n"
   ]
  },
  {
   "cell_type": "markdown",
   "id": "e657fba9-4b6e-4365-b4ca-c3ad3aa7ada3",
   "metadata": {},
   "source": [
    "4.3 Nearest Neighbors Classifier\n",
    "Now let's try KNN with Eucliean distance"
   ]
  },
  {
   "cell_type": "code",
   "execution_count": null,
   "id": "7d952907-2f5f-4dac-9007-47cc3cea9085",
   "metadata": {},
   "outputs": [],
   "source": [
    "def knn_clf(frame, grid):\n",
    "    knn = Model(KNeighborsClassifier, frame, metrics)\n",
    "    print_result(knn.grid_search('roc_auc', grid), \"cross-validation\")\n",
    "    print_result(knn.train_and_evaluate_test(), \"test set\")\n",
    "    print(\"Best hyperparameters:\", knn.hyperparameters)\n",
    "knn_clf(df_processed, {'n_neighbors': [i for i in range(10, 50, 2)]})"
   ]
  },
  {
   "cell_type": "markdown",
   "id": "156b0c7c-f691-42e1-9966-6a3310f081be",
   "metadata": {},
   "source": [
    "5. Feature Engineering"
   ]
  },
  {
   "cell_type": "markdown",
   "id": "c2184516-399e-4b56-a48b-31f4fbb1de83",
   "metadata": {},
   "source": [
    "5.1 Removing features\n",
    "Many features might be useless or noisy and removing them might result in better scores and also speed up the training. I will try to remove some features based on data visualization, correlation, feature importance (from this kernel) and also business perspective. If you have any suggestions please leave a comment.\n",
    "\n",
    "Logistic regression will be used to test new features as it is faster and has a solid score. For each new group of features the hyperparameters will be tunned again."
   ]
  },
  {
   "cell_type": "code",
   "execution_count": null,
   "id": "2bec1852-edc7-4ab7-b6e1-50904557fe93",
   "metadata": {},
   "outputs": [],
   "source": [
    "# Remove Gender\n",
    "features = ['gender']\n",
    "df_processed.drop(features, axis=1, inplace=True)\n",
    "logit = Model(LogisticRegression, df_processed, metrics)\n",
    "print_result(logit.grid_search('roc_auc', logit_grid), \"cross-validation\")"
   ]
  },
  {
   "cell_type": "code",
   "execution_count": null,
   "id": "cb1315a4-4682-4ae1-a79b-e36d746b6fa2",
   "metadata": {},
   "outputs": [],
   "source": [
    "# Remove services with 'no internet' label\n",
    "features = ['OnlineSecurity_No internet service', 'OnlineBackup_No internet service',\n",
    "           'DeviceProtection_No internet service', 'TechSupport_No internet service',\n",
    "           'StreamingTV_No internet service', 'StreamingMovies_No internet service']\n",
    "df_processed.drop(features, axis=1, inplace=True)\n",
    "logit = Model(LogisticRegression, df_processed, metrics)\n",
    "print_result(logit.grid_search('roc_auc', logit_grid), \"cross-validation\")"
   ]
  },
  {
   "cell_type": "code",
   "execution_count": null,
   "id": "ae94d51f-6c3a-4222-a22c-f4b0d13c2e1f",
   "metadata": {},
   "outputs": [],
   "source": [
    "# Additional services 'No'\n",
    "features = ['OnlineSecurity_No', 'OnlineBackup_No',\n",
    "           'DeviceProtection_No', 'TechSupport_No',\n",
    "           'StreamingTV_No', 'StreamingMovies_No']\n",
    "df_processed.drop(features, axis=1, inplace=True)\n",
    "logit = Model(LogisticRegression, df_processed, metrics)\n",
    "print_result(logit.grid_search('roc_auc', logit_grid), \"cross-validation\")"
   ]
  },
  {
   "cell_type": "code",
   "execution_count": null,
   "id": "86b6ff01-6f92-4e0f-8de7-3e2b98c5ca82",
   "metadata": {},
   "outputs": [],
   "source": [
    "# Remove PhoneService as MultipleLines has a 'No phone service' label\n",
    "features = ['PhoneService']\n",
    "df_processed.drop(features, axis=1, inplace=True)\n",
    "logit = Model(LogisticRegression, df_processed, metrics)\n",
    "print_result(logit.grid_search('roc_auc', logit_grid), \"cross-validation\")"
   ]
  },
  {
   "cell_type": "markdown",
   "id": "30892a50-98cb-4725-903e-f3e65806797e",
   "metadata": {},
   "source": [
    "Finally, let's evaluate our model on the test set:"
   ]
  },
  {
   "cell_type": "code",
   "execution_count": null,
   "id": "6f8c4c31-df12-477e-9b2e-2d312718a635",
   "metadata": {},
   "outputs": [],
   "source": [
    "print(\"Data shape: \", df_processed.shape)\n",
    "print(\"Best hyperparameters:\", logit.hyperparameters)\n",
    "print_result(logit.train_and_evaluate_test(), \"test set\")"
   ]
  },
  {
   "cell_type": "markdown",
   "id": "be39e4ca-d986-4d73-a9d5-9a0a2c1e125f",
   "metadata": {},
   "source": [
    "5.2 Polynomial features"
   ]
  },
  {
   "cell_type": "code",
   "execution_count": null,
   "id": "b8d0108b-4bc1-49e3-ad44-8ccdb8d8e1d2",
   "metadata": {},
   "outputs": [],
   "source": [
    "def add_polynomial_features(frame, poly_degree=2, interaction=False):\n",
    "    # Generate polynomials for the three numerical features\n",
    "    poly = PolynomialFeatures(degree=poly_degree, interaction_only=interaction, include_bias=False)\n",
    "    poly_features = poly.fit_transform(frame[['tenure', 'MonthlyCharges', 'TotalCharges']])\n",
    "    # Convert to dataframe and drop the repeated columns\n",
    "    df_poly = pd.DataFrame(poly_features, columns=poly.get_feature_names())\n",
    "    return pd.concat([frame, df_poly.drop(['x0', 'x1', 'x2'], axis=1)], axis=1)\n",
    "\n",
    "# Let's try a few different options for polynomial features\n",
    "for degree in range(2, 6):\n",
    "    for interaction in [True, False]:\n",
    "        df_poly = add_polynomial_features(df_processed, degree, interaction)\n",
    "        print(\"Degree: {}, interaction only: {}, data shape: {}\"\n",
    "              .format(degree, interaction, df_poly.shape))\n",
    "        logit = Model(LogisticRegression, df_poly, metrics)\n",
    "        print_result(logit.grid_search('roc_auc', logit_grid), \"cross-validation\")\n",
    "        del df_poly; gc.collect()"
   ]
  },
  {
   "cell_type": "markdown",
   "id": "4a5a1939-8bf4-4932-9983-c64068c45180",
   "metadata": {},
   "source": [
    "Let's add polynomial features with third degree:"
   ]
  },
  {
   "cell_type": "code",
   "execution_count": null,
   "id": "3432b684-5223-4723-8ff1-58a0ae3a452d",
   "metadata": {},
   "outputs": [],
   "source": [
    "df_processed = add_polynomial_features(df_processed, 3, False)\n",
    "logit = Model(LogisticRegression, df_processed, metrics)\n",
    "print_result(logit.grid_search('roc_auc', logit_grid), \"cross-validation\")\n",
    "print_result(logit.train_and_evaluate_test(), \"test set\")"
   ]
  },
  {
   "cell_type": "markdown",
   "id": "d482865d-c3e1-4bd9-bdeb-929c4b4dd72c",
   "metadata": {},
   "source": [
    "\n",
    "5.3 Manually created features\n",
    "\n",
    "Another option is to try some manually created features, like mean charge, charge ratio and charges difference:"
   ]
  },
  {
   "cell_type": "code",
   "execution_count": null,
   "id": "22f63132-20c9-4923-865e-c2c4e5c14b36",
   "metadata": {},
   "outputs": [],
   "source": [
    "# Difference between TotalCharges and the tenure multiplied by monthly charges\n",
    "df_tmp = df_processed.copy()\n",
    "df_tmp['charges_difference'] = df_tmp['TotalCharges'] - df_tmp['tenure']*df_tmp['MonthlyCharges']\n",
    "logit = Model(LogisticRegression, df_tmp, metrics)\n",
    "print_result(logit.grid_search('roc_auc', logit_grid), \"cross-validation\")\n",
    "\n",
    "# Just tenure multiplied by monthly charges\n",
    "df_tmp = df_processed.copy()\n",
    "df_tmp['tenure*charges'] = df_tmp['tenure']*df_tmp['MonthlyCharges']\n",
    "logit = Model(LogisticRegression, df_tmp, metrics)\n",
    "print_result(logit.grid_search('roc_auc', logit_grid), \"cross-validation\")\n",
    "\n",
    "# Ratio between the tenure multiplied by monthly charges and TotalCharges\n",
    "df_tmp = df_processed.copy()\n",
    "df_tmp['charges_ratio'] = df_tmp['tenure']*df_tmp['MonthlyCharges'] / (df_tmp['TotalCharges'] + 1)\n",
    "logit = Model(LogisticRegression, df_tmp, metrics)\n",
    "print_result(logit.grid_search('roc_auc', logit_grid), \"cross-validation\")"
   ]
  },
  {
   "cell_type": "code",
   "execution_count": null,
   "id": "e9198c3f-9d95-4743-9fef-d3138f2134a9",
   "metadata": {},
   "outputs": [],
   "source": [
    "# add feature\n",
    "df_processed['charges_ratio'] = df_processed['tenure']*df_processed['MonthlyCharges'] / (df_processed['TotalCharges'] + 1)\n",
    "logit = Model(LogisticRegression, df_processed, metrics)\n",
    "print_result(logit.grid_search('roc_auc', logit_grid), \"cross-validation\")\n",
    "print_result(logit.train_and_evaluate_test(), \"test set\")"
   ]
  },
  {
   "cell_type": "markdown",
   "id": "1d3cd6ba-fe88-4b06-b0f7-e0daf1fa5a98",
   "metadata": {},
   "source": [
    "Group features\n",
    "\n",
    "Group customers and get statistics about that group:"
   ]
  },
  {
   "cell_type": "code",
   "execution_count": null,
   "id": "439c9b6d-425a-4f95-817e-677201010ea6",
   "metadata": {},
   "outputs": [],
   "source": [
    "def group_and_merge(group, features):\n",
    "    df_tmp = df_processed.copy()\n",
    "    # Add the original column without ohe or transformations\n",
    "    group_col = group + \"_copy\"\n",
    "    df_tmp[group_col] = df[group].copy()\n",
    "    # Group by the original column\n",
    "    gp = df_tmp.groupby(group_col)[features].agg(['min', 'max', 'mean'])\n",
    "    gp.columns = pd.Index(['{}_{}'.format(e[0], e[1]) for e in gp.columns.tolist()])\n",
    "    # Merge with our dataframe and drop the copy column\n",
    "    df_tmp = df_tmp.merge(gp.reset_index(), on=group_col, how='left')\n",
    "    return df_tmp.drop([group_col], axis=1)\n",
    "\n",
    "# Groups\n",
    "for group in ['tenure', 'Contract', 'PaymentMethod', 'InternetService', 'MultipleLines']:\n",
    "    if group == 'tenure':\n",
    "        df_tmp = group_and_merge(group, ['MonthlyCharges', 'TotalCharges'])\n",
    "    else:\n",
    "        df_tmp = group_and_merge(group, ['tenure', 'MonthlyCharges', 'TotalCharges'])\n",
    "    logit = Model(LogisticRegression, df_tmp, metrics)\n",
    "    print_result(logit.grid_search('roc_auc', logit_grid), \"cross-validation\")"
   ]
  },
  {
   "cell_type": "markdown",
   "id": "f6023f72-7cec-438f-865a-1458db359f54",
   "metadata": {},
   "source": [
    "Let's try to add the first and the third group of features:"
   ]
  },
  {
   "cell_type": "code",
   "execution_count": null,
   "id": "3ee16c2d-5af3-4135-8643-907044313e13",
   "metadata": {},
   "outputs": [],
   "source": [
    "df_processed = group_and_merge('tenure', ['MonthlyCharges', 'TotalCharges'])\n",
    "df_processed = group_and_merge('Contract', ['tenure', 'MonthlyCharges', 'TotalCharges'])\n",
    "logistic_regression(df_processed, logit_grid)"
   ]
  },
  {
   "cell_type": "code",
   "execution_count": null,
   "id": "3a7c83b0-3784-4cfe-b3e5-e454508ccf9d",
   "metadata": {},
   "outputs": [],
   "source": []
  },
  {
   "cell_type": "code",
   "execution_count": null,
   "id": "7446c78a-5412-424b-9781-aec561754509",
   "metadata": {},
   "outputs": [],
   "source": []
  },
  {
   "cell_type": "code",
   "execution_count": null,
   "id": "c8fd9052-5e52-4c8c-bf00-d26d0ddae7eb",
   "metadata": {},
   "outputs": [],
   "source": []
  }
 ],
 "metadata": {
  "kernelspec": {
   "display_name": "Python 3 (ipykernel)",
   "language": "python",
   "name": "python3"
  },
  "language_info": {
   "codemirror_mode": {
    "name": "ipython",
    "version": 3
   },
   "file_extension": ".py",
   "mimetype": "text/x-python",
   "name": "python",
   "nbconvert_exporter": "python",
   "pygments_lexer": "ipython3",
   "version": "3.11.10"
  }
 },
 "nbformat": 4,
 "nbformat_minor": 5
}
